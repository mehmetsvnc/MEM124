{
 "cells": [
  {
   "cell_type": "code",
   "execution_count": 6,
   "metadata": {},
   "outputs": [
    {
     "name": "stdout",
     "output_type": "stream",
     "text": [
      "yapmak istediğiniz işlemi seçiniz.5\n",
      "Programı tekrar başlatınız.\n"
     ]
    }
   ],
   "source": [
    "t=int(input(\"yapmak istediğiniz işlemi seçiniz.\"))\n",
    "if t==1:\n",
    "    a=int(input(\"Birinci dik kenarın ölçüsünü giriniz.\"))\n",
    "    b=int(input(\"İkinci dik kenarın ölçüsünü giriniz.\"))\n",
    "    csqr=a**2+b**2\n",
    "    c=csqr**(1/2)\n",
    "    print(\"Hipotenüs:\",c,)\n",
    "    \n",
    "elif t==2:\n",
    "   \n",
    "    s=int(input(\"Bir sayı giriniz\"))\n",
    "    i=1\n",
    "    while i<=s:\n",
    "        print(i)\n",
    "        i+=1\n",
    "        \n",
    "elif t==3:\n",
    "   \n",
    "    x1=int(input(\"Birinci sayıyı giriniz.\"))\n",
    "    x2=int(input(\"İkinci sayıyı giriniz.\"))\n",
    "    x3=int(input(\"Üçüncü sayıyı giriniz.\"))\n",
    "    x4=int(input(\"Dördüncü sayıyı giriniz.\"))\n",
    "    x5=int(input(\"Beşinci sayıyı giriniz.\"))\n",
    "    x6=int(input(\"Altıncı sayıyı giriniz.\"))\n",
    "    ao=(x1+x2+x3+x4+x5+x6)/6\n",
    "    print(\"Aritmatik Ortalama:\",ao,)\n",
    " \n",
    "else:\n",
    "    \n",
    "    print(\"Programı tekrar başlatınız.\")\n"
   ]
  },
  {
   "cell_type": "code",
   "execution_count": null,
   "metadata": {},
   "outputs": [],
   "source": []
  }
 ],
 "metadata": {
  "kernelspec": {
   "display_name": "Python 3",
   "language": "python",
   "name": "python3"
  },
  "language_info": {
   "codemirror_mode": {
    "name": "ipython",
    "version": 3
   },
   "file_extension": ".py",
   "mimetype": "text/x-python",
   "name": "python",
   "nbconvert_exporter": "python",
   "pygments_lexer": "ipython3",
   "version": "3.6.7"
  }
 },
 "nbformat": 4,
 "nbformat_minor": 2
}
