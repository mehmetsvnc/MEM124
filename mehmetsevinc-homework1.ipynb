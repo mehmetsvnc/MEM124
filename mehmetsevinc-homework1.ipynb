{
 "cells": [
  {
   "cell_type": "code",
   "execution_count": null,
   "metadata": {},
   "outputs": [],
   "source": [
    "a=int(input(\"a enter:\"))\n",
    "b=int(input(\"b enter:\"))\n",
    "c=int(input(\"c enter:\"))\n",
    "delta = b**2-4*a*c\n",
    "x1= (-b - delta **0.5)/(2 * a)\n",
    "x2= (-b + delta **0.5)/(2 * a)\n",
    "print('Birinci kök : {}\\n'. format(x1))\n",
    "print('İkinci kök : {}\\n'. format(x2))\n"
   ]
  }
 ],
 "metadata": {
  "kernelspec": {
   "display_name": "Python 3",
   "language": "python",
   "name": "python3"
  },
  "language_info": {
   "codemirror_mode": {
    "name": "ipython",
    "version": 3
   },
   "file_extension": ".py",
   "mimetype": "text/x-python",
   "name": "python",
   "nbconvert_exporter": "python",
   "pygments_lexer": "ipython3",
   "version": "3.6.7"
  }
 },
 "nbformat": 4,
 "nbformat_minor": 2
}
